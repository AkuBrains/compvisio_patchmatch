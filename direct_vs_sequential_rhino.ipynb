{
 "cells": [
  {
   "cell_type": "code",
   "execution_count": 7,
   "metadata": {},
   "outputs": [],
   "source": [
    "import numpy as np\n",
    "import matplotlib.pyplot as plt\n",
    "from skimage import io\n",
    "from functions import monte_carlo, estimate_mask, dice_assessment,db_eval_boundary, centroid_assessment\n",
    "from integration import get_masks_direct, get_masks_sequential, get_masks_hybrid"
   ]
  },
  {
   "attachments": {},
   "cell_type": "markdown",
   "metadata": {},
   "source": [
    "### Direct integration without Monte-Carlo"
   ]
  },
  {
   "cell_type": "code",
   "execution_count": 8,
   "metadata": {},
   "outputs": [],
   "source": [
    "# Load data\n",
<<<<<<< HEAD
    "name = 'sequences-train/rhino'\n",
    "img_ref = io.imread(name+'-001.bmp')\n",
    "mask_ref = io.imread(name+'-001.png')\n",
    "\n",
<<<<<<< HEAD
    "n_images = 1\n",
=======
    "n_images = 50\n",
>>>>>>> c454a68 (Rhino example added)
=======
    "name = '/homes/n20ravel/Téléchargements/sequences-train/sequences-train/rhino'\n",
    "img_ref = io.imread(name+'-001.bmp')\n",
    "mask_ref = io.imread(name+'-001.png')\n",
    "\n",
    "n_images = 89\n",
>>>>>>> 7ce3256 (Correct merge)
    "imgs = list()\n",
    "masks = list()\n",
    "\n",
    "for i in range(2, 2 + n_images):\n",
    "    imgs.append(io.imread(name+'-%0*d.bmp'%(3, i)))\n",
    "    masks.append(io.imread(name+'-%0*d.png'%(3, i)))"
   ]
  },
  {
   "cell_type": "code",
   "execution_count": 9,
   "metadata": {},
   "outputs": [
    {
     "name": "stdout",
     "output_type": "stream",
     "text": [
      "Mask estimation for  0\n",
      "Mask estimation for  1\n",
      "Mask estimation for  2\n",
      "Mask estimation for  3\n",
      "Mask estimation for  4\n",
      "Mask estimation for  5\n",
      "Mask estimation for  6\n",
      "Mask estimation for  7\n",
      "Mask estimation for  8\n",
      "Mask estimation for  9\n",
      "Mask estimation for  10\n",
      "Mask estimation for  11\n",
      "Mask estimation for  12\n",
      "Mask estimation for  13\n",
      "Mask estimation for  14\n",
      "Mask estimation for  15\n",
      "Mask estimation for  16\n",
      "Mask estimation for  17\n",
      "Mask estimation for  18\n",
      "Mask estimation for  19\n",
      "Mask estimation for  20\n",
      "Mask estimation for  21\n",
      "Mask estimation for  22\n",
      "Mask estimation for  23\n",
      "Mask estimation for  24\n",
      "Mask estimation for  25\n",
      "Mask estimation for  26\n",
      "Mask estimation for  27\n",
      "Mask estimation for  28\n",
      "Mask estimation for  29\n",
      "Mask estimation for  30\n",
      "Mask estimation for  31\n",
      "Mask estimation for  32\n",
      "Mask estimation for  33\n",
      "Mask estimation for  34\n",
      "Mask estimation for  35\n",
      "Mask estimation for  36\n",
      "Mask estimation for  37\n",
      "Mask estimation for  38\n",
      "Mask estimation for  39\n",
      "Mask estimation for  40\n",
      "Mask estimation for  41\n",
      "Mask estimation for  42\n",
      "Mask estimation for  43\n",
      "Mask estimation for  44\n",
      "Mask estimation for  45\n",
      "Mask estimation for  46\n",
      "Mask estimation for  47\n",
      "Mask estimation for  48\n",
<<<<<<< HEAD
      "Mask estimation for  49\n"
<<<<<<< HEAD
>>>>>>> c454a68 (Rhino example added)
=======
     ]
    },
    {
     "ename": "SystemError",
     "evalue": "CPUDispatcher(<function monte_carlo_core at 0x7f991e898700>) returned a result with an exception set",
     "output_type": "error",
     "traceback": [
      "\u001b[0;31m---------------------------------------------------------------------------\u001b[0m",
      "\u001b[0;31mKeyboardInterrupt\u001b[0m                         Traceback (most recent call last)",
      "\u001b[0;32m/usr/lib/python3/dist-packages/numba/core/serialize.py\u001b[0m in \u001b[0;36m_numba_unpickle\u001b[0;34m(address, bytedata, hashed)\u001b[0m\n\u001b[1;32m     28\u001b[0m \u001b[0;34m\u001b[0m\u001b[0m\n\u001b[0;32m---> 29\u001b[0;31m \u001b[0;32mdef\u001b[0m \u001b[0m_numba_unpickle\u001b[0m\u001b[0;34m(\u001b[0m\u001b[0maddress\u001b[0m\u001b[0;34m,\u001b[0m \u001b[0mbytedata\u001b[0m\u001b[0;34m,\u001b[0m \u001b[0mhashed\u001b[0m\u001b[0;34m)\u001b[0m\u001b[0;34m:\u001b[0m\u001b[0;34m\u001b[0m\u001b[0;34m\u001b[0m\u001b[0m\n\u001b[0m\u001b[1;32m     30\u001b[0m     \"\"\"Used by `numba_unpickle` from _helperlib.c\n",
      "\u001b[0;31mKeyboardInterrupt\u001b[0m: ",
      "\nThe above exception was the direct cause of the following exception:\n",
      "\u001b[0;31mSystemError\u001b[0m                               Traceback (most recent call last)",
      "\u001b[0;32m/tmp/ipykernel_28551/94148494.py\u001b[0m in \u001b[0;36m<module>\u001b[0;34m\u001b[0m\n\u001b[1;32m      2\u001b[0m \u001b[0mp_size\u001b[0m \u001b[0;34m=\u001b[0m \u001b[0;36m9\u001b[0m\u001b[0;34m\u001b[0m\u001b[0;34m\u001b[0m\u001b[0m\n\u001b[1;32m      3\u001b[0m \u001b[0mn_iter_pm\u001b[0m \u001b[0;34m=\u001b[0m \u001b[0;36m5\u001b[0m\u001b[0;34m\u001b[0m\u001b[0;34m\u001b[0m\u001b[0m\n\u001b[0;32m----> 4\u001b[0;31m \u001b[0mestimated_masks_direct_no_mc\u001b[0m \u001b[0;34m=\u001b[0m \u001b[0mget_masks_direct\u001b[0m\u001b[0;34m(\u001b[0m\u001b[0mimg_ref\u001b[0m\u001b[0;34m,\u001b[0m \u001b[0mmask_ref\u001b[0m\u001b[0;34m,\u001b[0m \u001b[0mimgs\u001b[0m\u001b[0;34m,\u001b[0m \u001b[0mn_iter_mc\u001b[0m\u001b[0;34m,\u001b[0m \u001b[0mp_size\u001b[0m\u001b[0;34m,\u001b[0m \u001b[0mn_iter_pm\u001b[0m\u001b[0;34m)\u001b[0m\u001b[0;34m\u001b[0m\u001b[0;34m\u001b[0m\u001b[0m\n\u001b[0m",
      "\u001b[0;32m~/git/compvisio_patchmatch-1/integration.py\u001b[0m in \u001b[0;36mget_masks_direct\u001b[0;34m(img_ref, mask_ref, imgs, n_iter_mc, p_size, n_iter_pm, thr)\u001b[0m\n\u001b[1;32m     10\u001b[0m     \u001b[0;32mfor\u001b[0m \u001b[0mi\u001b[0m \u001b[0;32min\u001b[0m \u001b[0mrange\u001b[0m\u001b[0;34m(\u001b[0m\u001b[0mn_images\u001b[0m\u001b[0;34m)\u001b[0m\u001b[0;34m:\u001b[0m\u001b[0;34m\u001b[0m\u001b[0;34m\u001b[0m\u001b[0m\n\u001b[1;32m     11\u001b[0m \u001b[0;34m<<\u001b[0m\u001b[0;34m<<\u001b[0m\u001b[0;34m<<\u001b[0m\u001b[0;34m<\u001b[0m \u001b[0mHEAD\u001b[0m\u001b[0;34m\u001b[0m\u001b[0;34m\u001b[0m\u001b[0m\n\u001b[0;32m---> 12\u001b[0;31m         \u001b[0mprint\u001b[0m\u001b[0;34m(\u001b[0m\u001b[0;34m\"Mask estimation for \"\u001b[0m\u001b[0;34m,\u001b[0m\u001b[0mi\u001b[0m\u001b[0;34m)\u001b[0m\u001b[0;34m\u001b[0m\u001b[0;34m\u001b[0m\u001b[0m\n\u001b[0m\u001b[1;32m     13\u001b[0m \u001b[0;34m==\u001b[0m\u001b[0;34m==\u001b[0m\u001b[0;34m==\u001b[0m\u001b[0;34m=\u001b[0m\u001b[0;34m\u001b[0m\u001b[0;34m\u001b[0m\u001b[0m\n\u001b[1;32m     14\u001b[0m         \u001b[0mprint\u001b[0m\u001b[0;34m(\u001b[0m\u001b[0;34mf'Mask estimation image {i+2}'\u001b[0m\u001b[0;34m)\u001b[0m\u001b[0;34m\u001b[0m\u001b[0;34m\u001b[0m\u001b[0m\n",
      "\u001b[0;32m~/git/compvisio_patchmatch-1/functions.py\u001b[0m in \u001b[0;36mmonte_carlo\u001b[0;34m(img, ref, n_iter, p_size, pm_iter, bar)\u001b[0m\n\u001b[1;32m     36\u001b[0m         \u001b[0;32mwith\u001b[0m \u001b[0mProgressBar\u001b[0m\u001b[0;34m(\u001b[0m\u001b[0mtotal\u001b[0m\u001b[0;34m=\u001b[0m\u001b[0mn_iter\u001b[0m\u001b[0;34m)\u001b[0m \u001b[0;32mas\u001b[0m \u001b[0mprogress\u001b[0m\u001b[0;34m:\u001b[0m\u001b[0;34m\u001b[0m\u001b[0;34m\u001b[0m\u001b[0m\n\u001b[1;32m     37\u001b[0m             \u001b[0;32mreturn\u001b[0m \u001b[0mprogress\u001b[0m\u001b[0;34m,\u001b[0m \u001b[0mmonte_carlo_core\u001b[0m\u001b[0;34m(\u001b[0m\u001b[0mimg\u001b[0m\u001b[0;34m,\u001b[0m \u001b[0mref\u001b[0m\u001b[0;34m,\u001b[0m \u001b[0mn_iter\u001b[0m\u001b[0;34m,\u001b[0m \u001b[0mprogress\u001b[0m\u001b[0;34m,\u001b[0m \u001b[0mtemp\u001b[0m\u001b[0;34m,\u001b[0m \u001b[0mp_size\u001b[0m\u001b[0;34m=\u001b[0m\u001b[0mp_size\u001b[0m\u001b[0;34m,\u001b[0m \u001b[0mpm_iter\u001b[0m\u001b[0;34m=\u001b[0m\u001b[0mpm_iter\u001b[0m\u001b[0;34m)\u001b[0m\u001b[0;34m\u001b[0m\u001b[0;34m\u001b[0m\u001b[0m\n\u001b[0;32m---> 38\u001b[0;31m     \u001b[0;32mreturn\u001b[0m \u001b[0mmonte_carlo_core\u001b[0m\u001b[0;34m(\u001b[0m\u001b[0mimg\u001b[0m\u001b[0;34m,\u001b[0m \u001b[0mref\u001b[0m\u001b[0;34m,\u001b[0m \u001b[0mn_iter\u001b[0m\u001b[0;34m,\u001b[0m \u001b[0mtemp\u001b[0m\u001b[0;34m,\u001b[0m \u001b[0mp_size\u001b[0m\u001b[0;34m=\u001b[0m\u001b[0mp_size\u001b[0m\u001b[0;34m,\u001b[0m \u001b[0mpm_iter\u001b[0m\u001b[0;34m=\u001b[0m\u001b[0mpm_iter\u001b[0m\u001b[0;34m)\u001b[0m\u001b[0;34m\u001b[0m\u001b[0;34m\u001b[0m\u001b[0m\n\u001b[0m\u001b[1;32m     39\u001b[0m \u001b[0;34m\u001b[0m\u001b[0m\n\u001b[1;32m     40\u001b[0m \u001b[0;34m\u001b[0m\u001b[0m\n",
      "\u001b[0;31mSystemError\u001b[0m: CPUDispatcher(<function monte_carlo_core at 0x7f991e898700>) returned a result with an exception set"
>>>>>>> 7ce3256 (Correct merge)
=======
      "Mask estimation for  49\n",
      "Mask estimation for  50\n",
      "Mask estimation for  51\n",
      "Mask estimation for  52\n",
      "Mask estimation for  53\n",
      "Mask estimation for  54\n",
      "Mask estimation for  55\n",
      "Mask estimation for  56\n",
      "Mask estimation for  57\n",
      "Mask estimation for  58\n",
      "Mask estimation for  59\n",
      "Mask estimation for  60\n",
      "Mask estimation for  61\n",
      "Mask estimation for  62\n",
      "Mask estimation for  63\n",
      "Mask estimation for  64\n",
      "Mask estimation for  65\n",
      "Mask estimation for  66\n",
      "Mask estimation for  67\n",
      "Mask estimation for  68\n",
      "Mask estimation for  69\n",
      "Mask estimation for  70\n",
      "Mask estimation for  71\n",
      "Mask estimation for  72\n",
      "Mask estimation for  73\n",
      "Mask estimation for  74\n",
      "Mask estimation for  75\n",
      "Mask estimation for  76\n",
      "Mask estimation for  77\n",
      "Mask estimation for  78\n",
      "Mask estimation for  79\n",
      "Mask estimation for  80\n",
      "Mask estimation for  81\n",
      "Mask estimation for  82\n",
      "Mask estimation for  83\n",
      "Mask estimation for  84\n",
      "Mask estimation for  85\n",
      "Mask estimation for  86\n",
      "Mask estimation for  87\n",
      "Mask estimation for  88\n"
>>>>>>> f791f49 (get metrics rhino)
     ]
    }
   ],
   "source": [
    "n_iter_mc = 1\n",
    "p_size = 9\n",
    "n_iter_pm = 5\n",
    "estimated_masks_direct_no_mc = get_masks_direct(img_ref, mask_ref, imgs, n_iter_mc, p_size, n_iter_pm)"
   ]
  },
  {
   "cell_type": "code",
   "execution_count": 10,
   "metadata": {},
   "outputs": [],
   "source": [
    "\n",
    "dices_direct_no_mc = [dice_assessment(masks[i], estimated_masks_direct_no_mc[i]) for i in range(n_images)]\n",
    "boundary_direct_no_mc = [db_eval_boundary(estimated_masks_direct_no_mc[i],masks[i]) for i in range(n_images)]\n",
<<<<<<< HEAD
    "print(masks[0].dtype, estimated_masks_direct_no_mc[0].dtype )\n",
=======
   "outputs": [],
   "source": [
    "dices_direct_no_mc = [dice_assessment(masks[i], estimated_masks_direct_no_mc[i]) for i in range(n_images)]\n",
    "boundary_direct_no_mc = [db_eval_boundary(estimated_masks_direct_no_mc[i],masks[i]) for i in range(n_images)]\n",
>>>>>>> c454a68 (Rhino example added)
=======
>>>>>>> 7ce3256 (Correct merge)
    "centroid_direct_no_mc = [centroid_assessment(masks[i], estimated_masks_direct_no_mc[i]) for i in range(n_images)]"
   ]
  },
  {
   "attachments": {},
   "cell_type": "markdown",
   "metadata": {},
   "source": [
    "### Direct integration with Monte-Carlo"
   ]
  },
  {
   "cell_type": "code",
<<<<<<< HEAD
   "execution_count": null,
<<<<<<< HEAD
=======
   "execution_count": 5,
>>>>>>> c454a68 (Rhino example added)
=======
>>>>>>> 7ce3256 (Correct merge)
=======
   "execution_count": 11,
>>>>>>> f791f49 (get metrics rhino)
   "metadata": {},
   "outputs": [
    {
     "name": "stdout",
     "output_type": "stream",
     "text": [
      "Mask estimation for  0\n",
      "Mask estimation for  1\n",
      "Mask estimation for  2\n",
      "Mask estimation for  3\n",
      "Mask estimation for  4\n",
      "Mask estimation for  5\n",
      "Mask estimation for  6\n",
      "Mask estimation for  7\n",
      "Mask estimation for  8\n",
      "Mask estimation for  9\n",
      "Mask estimation for  10\n",
      "Mask estimation for  11\n",
      "Mask estimation for  12\n",
      "Mask estimation for  13\n",
      "Mask estimation for  14\n",
      "Mask estimation for  15\n",
      "Mask estimation for  16\n",
      "Mask estimation for  17\n",
      "Mask estimation for  18\n",
      "Mask estimation for  19\n",
      "Mask estimation for  20\n",
      "Mask estimation for  21\n",
      "Mask estimation for  22\n",
      "Mask estimation for  23\n",
      "Mask estimation for  24\n",
      "Mask estimation for  25\n",
      "Mask estimation for  26\n",
      "Mask estimation for  27\n",
      "Mask estimation for  28\n",
      "Mask estimation for  29\n",
      "Mask estimation for  30\n",
      "Mask estimation for  31\n",
      "Mask estimation for  32\n",
      "Mask estimation for  33\n",
      "Mask estimation for  34\n",
      "Mask estimation for  35\n",
      "Mask estimation for  36\n",
      "Mask estimation for  37\n",
      "Mask estimation for  38\n",
      "Mask estimation for  39\n",
      "Mask estimation for  40\n",
      "Mask estimation for  41\n",
      "Mask estimation for  42\n",
      "Mask estimation for  43\n",
      "Mask estimation for  44\n",
      "Mask estimation for  45\n",
      "Mask estimation for  46\n",
      "Mask estimation for  47\n",
      "Mask estimation for  48\n",
      "Mask estimation for  49\n",
      "Mask estimation for  50\n",
      "Mask estimation for  51\n",
      "Mask estimation for  52\n",
      "Mask estimation for  53\n",
      "Mask estimation for  54\n",
      "Mask estimation for  55\n",
      "Mask estimation for  56\n",
      "Mask estimation for  57\n",
      "Mask estimation for  58\n",
      "Mask estimation for  59\n",
      "Mask estimation for  60\n",
      "Mask estimation for  61\n",
      "Mask estimation for  62\n",
      "Mask estimation for  63\n",
      "Mask estimation for  64\n",
      "Mask estimation for  65\n",
      "Mask estimation for  66\n",
      "Mask estimation for  67\n",
      "Mask estimation for  68\n",
      "Mask estimation for  69\n",
      "Mask estimation for  70\n",
      "Mask estimation for  71\n",
      "Mask estimation for  72\n",
      "Mask estimation for  73\n",
      "Mask estimation for  74\n",
      "Mask estimation for  75\n",
      "Mask estimation for  76\n",
      "Mask estimation for  77\n",
      "Mask estimation for  78\n",
      "Mask estimation for  79\n",
      "Mask estimation for  80\n",
      "Mask estimation for  81\n",
      "Mask estimation for  82\n",
      "Mask estimation for  83\n",
      "Mask estimation for  84\n",
      "Mask estimation for  85\n",
      "Mask estimation for  86\n",
      "Mask estimation for  87\n",
      "Mask estimation for  88\n"
     ]
    }
   ],
   "source": [
    "n_iter_mc = 3\n",
    "p_size = 9\n",
    "n_iter_pm = 5\n",
    "estimated_masks_direct_mc = get_masks_direct(img_ref, mask_ref, imgs, n_iter_mc, p_size, n_iter_pm)"
   ]
  },
  {
   "cell_type": "code",
<<<<<<< HEAD
   "execution_count": null,
<<<<<<< HEAD
=======
   "execution_count": 6,
>>>>>>> c454a68 (Rhino example added)
=======
>>>>>>> 7ce3256 (Correct merge)
=======
   "execution_count": 12,
>>>>>>> f791f49 (get metrics rhino)
   "metadata": {},
   "outputs": [],
   "source": [
    "dices_direct_mc = [dice_assessment(masks[i], estimated_masks_direct_mc[i]) for i in range(n_images)]\n",
<<<<<<< HEAD
<<<<<<< HEAD
    "boundary_direct_mc = [db_eval_boundary(estimated_masks_direct_mc[i],masks[i]) for i in range(n_images)]\n",
    "centroid_direct_mc = [centroid_assessment(masks[i], estimated_masks_direct_mc[i]) for i in range(n_images)]"
=======
    "#boundary_direct_mc = [db_eval_boundary(estimated_masks_direct_mc[i],masks[i]) for i in range(n_images)]\n",
    "#centroid_direct_mc = [centroid_assessment(masks[i], estimated_masks_direct_mc[i]) for i in range(n_images)]"
>>>>>>> c454a68 (Rhino example added)
=======
    "boundary_direct_mc = [db_eval_boundary(estimated_masks_direct_mc[i],masks[i]) for i in range(n_images)]\n",
    "centroid_direct_mc = [centroid_assessment(masks[i], estimated_masks_direct_mc[i]) for i in range(n_images)]"
>>>>>>> a77632d (Update rhino)
   ]
  },
  {
   "attachments": {},
   "cell_type": "markdown",
   "metadata": {},
   "source": [
    "### Sequential integration without Monte-Carlo"
   ]
  },
  {
   "cell_type": "code",
<<<<<<< HEAD
   "execution_count": null,
<<<<<<< HEAD
=======
   "execution_count": 7,
>>>>>>> c454a68 (Rhino example added)
=======
>>>>>>> 7ce3256 (Correct merge)
=======
   "execution_count": 13,
>>>>>>> f791f49 (get metrics rhino)
   "metadata": {},
   "outputs": [
    {
     "name": "stdout",
     "output_type": "stream",
     "text": [
      "Mask estimation for  0\n",
      "Mask estimation for  1\n",
      "Mask estimation for  2\n",
      "Mask estimation for  3\n",
      "Mask estimation for  4\n",
      "Mask estimation for  5\n",
      "Mask estimation for  6\n",
      "Mask estimation for  7\n",
      "Mask estimation for  8\n",
      "Mask estimation for  9\n",
      "Mask estimation for  10\n",
      "Mask estimation for  11\n",
      "Mask estimation for  12\n",
      "Mask estimation for  13\n",
      "Mask estimation for  14\n",
      "Mask estimation for  15\n",
      "Mask estimation for  16\n",
      "Mask estimation for  17\n",
      "Mask estimation for  18\n",
      "Mask estimation for  19\n",
      "Mask estimation for  20\n",
      "Mask estimation for  21\n",
      "Mask estimation for  22\n",
      "Mask estimation for  23\n",
      "Mask estimation for  24\n",
      "Mask estimation for  25\n",
      "Mask estimation for  26\n",
      "Mask estimation for  27\n",
      "Mask estimation for  28\n",
      "Mask estimation for  29\n",
      "Mask estimation for  30\n",
      "Mask estimation for  31\n",
      "Mask estimation for  32\n",
      "Mask estimation for  33\n",
      "Mask estimation for  34\n",
      "Mask estimation for  35\n",
      "Mask estimation for  36\n",
      "Mask estimation for  37\n",
      "Mask estimation for  38\n",
      "Mask estimation for  39\n",
      "Mask estimation for  40\n",
      "Mask estimation for  41\n",
      "Mask estimation for  42\n",
      "Mask estimation for  43\n",
      "Mask estimation for  44\n",
      "Mask estimation for  45\n",
      "Mask estimation for  46\n",
      "Mask estimation for  47\n",
      "Mask estimation for  48\n",
      "Mask estimation for  49\n",
      "Mask estimation for  50\n",
      "Mask estimation for  51\n",
      "Mask estimation for  52\n",
      "Mask estimation for  53\n",
      "Mask estimation for  54\n",
      "Mask estimation for  55\n",
      "Mask estimation for  56\n",
      "Mask estimation for  57\n",
      "Mask estimation for  58\n",
      "Mask estimation for  59\n",
      "Mask estimation for  60\n",
      "Mask estimation for  61\n",
      "Mask estimation for  62\n",
      "Mask estimation for  63\n",
      "Mask estimation for  64\n",
      "Mask estimation for  65\n",
      "Mask estimation for  66\n",
      "Mask estimation for  67\n",
      "Mask estimation for  68\n",
      "Mask estimation for  69\n",
      "Mask estimation for  70\n",
      "Mask estimation for  71\n",
      "Mask estimation for  72\n",
      "Mask estimation for  73\n",
      "Mask estimation for  74\n",
      "Mask estimation for  75\n",
      "Mask estimation for  76\n",
      "Mask estimation for  77\n",
      "Mask estimation for  78\n",
      "Mask estimation for  79\n",
      "Mask estimation for  80\n",
      "Mask estimation for  81\n",
      "Mask estimation for  82\n",
      "Mask estimation for  83\n",
      "Mask estimation for  84\n",
      "Mask estimation for  85\n",
      "Mask estimation for  86\n",
      "Mask estimation for  87\n",
      "Mask estimation for  88\n"
     ]
    }
   ],
   "source": [
    "n_iter_mc = 1\n",
    "p_size = 9\n",
    "n_iter_pm = 5\n",
    "estimated_masks_sequential_no_mc = get_masks_sequential(img_ref, mask_ref, imgs, n_iter_mc, p_size, n_iter_pm)"
   ]
  },
  {
   "cell_type": "code",
<<<<<<< HEAD
   "execution_count": null,
<<<<<<< HEAD
=======
   "execution_count": 12,
>>>>>>> c454a68 (Rhino example added)
=======
>>>>>>> 7ce3256 (Correct merge)
=======
   "execution_count": 14,
>>>>>>> f791f49 (get metrics rhino)
   "metadata": {},
   "outputs": [],
   "source": [
    "dices_sequential_no_mc = [dice_assessment(masks[i], estimated_masks_sequential_no_mc[i]) for i in range(n_images)]\n",
<<<<<<< HEAD
<<<<<<< HEAD
    "boundary_sequential_no_mc = [db_eval_boundary(estimated_masks_sequential_no_mc[i],masks[i]) for i in range(n_images)]\n",
    "centroid_sequential_no_mc = [centroid_assessment(masks[i], estimated_masks_sequential_no_mc[i]) for i in range(n_images)]"
=======
    "#boundary_sequential_no_mc = [db_eval_boundary(estimated_masks_sequential_no_mc[i],masks[i]) for i in range(n_images)]\n",
    "#centroid_sequential_no_mc = [centroid_assessment(masks[i], estimated_masks_sequential_no_mc[i]) for i in range(n_images)]"
>>>>>>> c454a68 (Rhino example added)
=======
    "boundary_sequential_no_mc = [db_eval_boundary(estimated_masks_sequential_no_mc[i],masks[i]) for i in range(n_images)]\n",
    "centroid_sequential_no_mc = [centroid_assessment(masks[i], estimated_masks_sequential_no_mc[i]) for i in range(n_images)]"
>>>>>>> a77632d (Update rhino)
   ]
  },
  {
   "attachments": {},
   "cell_type": "markdown",
   "metadata": {},
   "source": [
    "### Sequential integration with Monte-Carlo"
   ]
  },
  {
   "cell_type": "code",
   "execution_count": 15,
   "metadata": {},
   "outputs": [
    {
     "name": "stdout",
     "output_type": "stream",
     "text": [
      "Mask estimation for  0\n",
      "Mask estimation for  1\n",
      "Mask estimation for  2\n",
      "Mask estimation for  3\n",
      "Mask estimation for  4\n",
      "Mask estimation for  5\n",
      "Mask estimation for  6\n",
      "Mask estimation for  7\n",
      "Mask estimation for  8\n",
      "Mask estimation for  9\n",
      "Mask estimation for  10\n",
<<<<<<< HEAD
      "Mask estimation for  11\n"
     ]
    },
    {
     "ename": "SystemError",
     "evalue": "CPUDispatcher(<function monte_carlo_core at 0x7f6b07308ca0>) returned a result with an exception set",
     "output_type": "error",
     "traceback": [
      "\u001b[0;31m---------------------------------------------------------------------------\u001b[0m",
      "\u001b[0;31mKeyboardInterrupt\u001b[0m                         Traceback (most recent call last)",
      "\u001b[0;32m/usr/lib/python3/dist-packages/numba/core/serialize.py\u001b[0m in \u001b[0;36m_numba_unpickle\u001b[0;34m(address, bytedata, hashed)\u001b[0m\n\u001b[1;32m     28\u001b[0m \u001b[0;34m\u001b[0m\u001b[0m\n\u001b[0;32m---> 29\u001b[0;31m \u001b[0;32mdef\u001b[0m \u001b[0m_numba_unpickle\u001b[0m\u001b[0;34m(\u001b[0m\u001b[0maddress\u001b[0m\u001b[0;34m,\u001b[0m \u001b[0mbytedata\u001b[0m\u001b[0;34m,\u001b[0m \u001b[0mhashed\u001b[0m\u001b[0;34m)\u001b[0m\u001b[0;34m:\u001b[0m\u001b[0;34m\u001b[0m\u001b[0;34m\u001b[0m\u001b[0m\n\u001b[0m\u001b[1;32m     30\u001b[0m     \"\"\"Used by `numba_unpickle` from _helperlib.c\n",
      "\u001b[0;31mKeyboardInterrupt\u001b[0m: ",
      "\nThe above exception was the direct cause of the following exception:\n",
      "\u001b[0;31mSystemError\u001b[0m                               Traceback (most recent call last)",
      "\u001b[0;32m/tmp/ipykernel_26355/3774370082.py\u001b[0m in \u001b[0;36m<module>\u001b[0;34m\u001b[0m\n\u001b[1;32m      2\u001b[0m \u001b[0mp_size\u001b[0m \u001b[0;34m=\u001b[0m \u001b[0;36m9\u001b[0m\u001b[0;34m\u001b[0m\u001b[0;34m\u001b[0m\u001b[0m\n\u001b[1;32m      3\u001b[0m \u001b[0mn_iter_pm\u001b[0m \u001b[0;34m=\u001b[0m \u001b[0;36m5\u001b[0m\u001b[0;34m\u001b[0m\u001b[0;34m\u001b[0m\u001b[0m\n\u001b[0;32m----> 4\u001b[0;31m \u001b[0mestimated_masks_sequential_mc\u001b[0m \u001b[0;34m=\u001b[0m \u001b[0mget_masks_sequential\u001b[0m\u001b[0;34m(\u001b[0m\u001b[0mimg_ref\u001b[0m\u001b[0;34m,\u001b[0m \u001b[0mmask_ref\u001b[0m\u001b[0;34m,\u001b[0m \u001b[0mimgs\u001b[0m\u001b[0;34m,\u001b[0m \u001b[0mn_iter_mc\u001b[0m\u001b[0;34m,\u001b[0m \u001b[0mp_size\u001b[0m\u001b[0;34m,\u001b[0m \u001b[0mn_iter_pm\u001b[0m\u001b[0;34m)\u001b[0m\u001b[0;34m\u001b[0m\u001b[0;34m\u001b[0m\u001b[0m\n\u001b[0m",
      "\u001b[0;32m~/git/compvisio_patchmatch-1/integration.py\u001b[0m in \u001b[0;36mget_masks_sequential\u001b[0;34m(img_ref, mask_ref, imgs, n_iter_mc, p_size, n_iter_pm, thr)\u001b[0m\n\u001b[1;32m     24\u001b[0m     \u001b[0;32mfor\u001b[0m \u001b[0mi\u001b[0m \u001b[0;32min\u001b[0m \u001b[0mrange\u001b[0m\u001b[0;34m(\u001b[0m\u001b[0mn_images\u001b[0m\u001b[0;34m)\u001b[0m\u001b[0;34m:\u001b[0m\u001b[0;34m\u001b[0m\u001b[0;34m\u001b[0m\u001b[0m\n\u001b[1;32m     25\u001b[0m         \u001b[0mprint\u001b[0m\u001b[0;34m(\u001b[0m\u001b[0;34m\"Mask estimation for \"\u001b[0m\u001b[0;34m,\u001b[0m\u001b[0mi\u001b[0m\u001b[0;34m)\u001b[0m\u001b[0;34m\u001b[0m\u001b[0;34m\u001b[0m\u001b[0m\n\u001b[0;32m---> 26\u001b[0;31m         \u001b[0mf_monte_carlo\u001b[0m \u001b[0;34m=\u001b[0m \u001b[0mmonte_carlo\u001b[0m\u001b[0;34m(\u001b[0m\u001b[0mimgs\u001b[0m\u001b[0;34m[\u001b[0m\u001b[0mi\u001b[0m\u001b[0;34m]\u001b[0m\u001b[0;34m,\u001b[0m \u001b[0mimg_ref\u001b[0m\u001b[0;34m,\u001b[0m \u001b[0mn_iter\u001b[0m\u001b[0;34m=\u001b[0m\u001b[0mn_iter_mc\u001b[0m\u001b[0;34m,\u001b[0m \u001b[0mp_size\u001b[0m\u001b[0;34m=\u001b[0m\u001b[0mp_size\u001b[0m\u001b[0;34m,\u001b[0m \u001b[0mpm_iter\u001b[0m\u001b[0;34m=\u001b[0m\u001b[0mn_iter_pm\u001b[0m\u001b[0;34m)\u001b[0m\u001b[0;34m\u001b[0m\u001b[0;34m\u001b[0m\u001b[0m\n\u001b[0m\u001b[1;32m     27\u001b[0m         \u001b[0;32mfor\u001b[0m \u001b[0mj\u001b[0m \u001b[0;32min\u001b[0m \u001b[0mrange\u001b[0m\u001b[0;34m(\u001b[0m\u001b[0mn_iter_mc\u001b[0m\u001b[0;34m)\u001b[0m\u001b[0;34m:\u001b[0m\u001b[0;34m\u001b[0m\u001b[0;34m\u001b[0m\u001b[0m\n\u001b[1;32m     28\u001b[0m             \u001b[0mmask_i\u001b[0m \u001b[0;34m=\u001b[0m \u001b[0mestimate_mask\u001b[0m\u001b[0;34m(\u001b[0m\u001b[0mmask_ref\u001b[0m\u001b[0;34m,\u001b[0m \u001b[0mf_monte_carlo\u001b[0m\u001b[0;34m[\u001b[0m\u001b[0mj\u001b[0m\u001b[0;34m,\u001b[0m\u001b[0;34m...\u001b[0m\u001b[0;34m]\u001b[0m\u001b[0;34m)\u001b[0m\u001b[0;34m\u001b[0m\u001b[0;34m\u001b[0m\u001b[0m\n",
      "\u001b[0;32m~/git/compvisio_patchmatch-1/functions.py\u001b[0m in \u001b[0;36mmonte_carlo\u001b[0;34m(img, ref, n_iter, p_size, pm_iter, bar)\u001b[0m\n\u001b[1;32m     36\u001b[0m         \u001b[0;32mwith\u001b[0m \u001b[0mProgressBar\u001b[0m\u001b[0;34m(\u001b[0m\u001b[0mtotal\u001b[0m\u001b[0;34m=\u001b[0m\u001b[0mn_iter\u001b[0m\u001b[0;34m)\u001b[0m \u001b[0;32mas\u001b[0m \u001b[0mprogress\u001b[0m\u001b[0;34m:\u001b[0m\u001b[0;34m\u001b[0m\u001b[0;34m\u001b[0m\u001b[0m\n\u001b[1;32m     37\u001b[0m             \u001b[0;32mreturn\u001b[0m \u001b[0mprogress\u001b[0m\u001b[0;34m,\u001b[0m \u001b[0mmonte_carlo_core\u001b[0m\u001b[0;34m(\u001b[0m\u001b[0mimg\u001b[0m\u001b[0;34m,\u001b[0m \u001b[0mref\u001b[0m\u001b[0;34m,\u001b[0m \u001b[0mn_iter\u001b[0m\u001b[0;34m,\u001b[0m \u001b[0mprogress\u001b[0m\u001b[0;34m,\u001b[0m \u001b[0mtemp\u001b[0m\u001b[0;34m,\u001b[0m \u001b[0mp_size\u001b[0m\u001b[0;34m=\u001b[0m\u001b[0mp_size\u001b[0m\u001b[0;34m,\u001b[0m \u001b[0mpm_iter\u001b[0m\u001b[0;34m=\u001b[0m\u001b[0mpm_iter\u001b[0m\u001b[0;34m)\u001b[0m\u001b[0;34m\u001b[0m\u001b[0;34m\u001b[0m\u001b[0m\n\u001b[0;32m---> 38\u001b[0;31m     \u001b[0;32mreturn\u001b[0m \u001b[0mmonte_carlo_core\u001b[0m\u001b[0;34m(\u001b[0m\u001b[0mimg\u001b[0m\u001b[0;34m,\u001b[0m \u001b[0mref\u001b[0m\u001b[0;34m,\u001b[0m \u001b[0mn_iter\u001b[0m\u001b[0;34m,\u001b[0m \u001b[0mtemp\u001b[0m\u001b[0;34m,\u001b[0m \u001b[0mp_size\u001b[0m\u001b[0;34m=\u001b[0m\u001b[0mp_size\u001b[0m\u001b[0;34m,\u001b[0m \u001b[0mpm_iter\u001b[0m\u001b[0;34m=\u001b[0m\u001b[0mpm_iter\u001b[0m\u001b[0;34m)\u001b[0m\u001b[0;34m\u001b[0m\u001b[0;34m\u001b[0m\u001b[0m\n\u001b[0m\u001b[1;32m     39\u001b[0m \u001b[0;34m\u001b[0m\u001b[0m\n\u001b[1;32m     40\u001b[0m \u001b[0;34m\u001b[0m\u001b[0m\n",
      "\u001b[0;31mSystemError\u001b[0m: CPUDispatcher(<function monte_carlo_core at 0x7f6b07308ca0>) returned a result with an exception set"
<<<<<<< HEAD
=======
      "Mask estimation for sequences-train/bag-002.bmp\n",
      "Mask estimation for sequences-train/bag-003.bmp\n",
      "Mask estimation for sequences-train/bag-004.bmp\n",
      "Mask estimation for sequences-train/bag-005.bmp\n",
      "Mask estimation for sequences-train/bag-006.bmp\n",
      "Mask estimation for sequences-train/bag-007.bmp\n",
      "Mask estimation for sequences-train/bag-008.bmp\n",
      "Mask estimation for sequences-train/bag-009.bmp\n",
      "Mask estimation for sequences-train/bag-010.bmp\n",
      "Mask estimation for sequences-train/bag-011.bmp\n"
>>>>>>> c454a68 (Rhino example added)
=======
>>>>>>> 7ce3256 (Correct merge)
=======
      "Mask estimation for  11\n",
      "Mask estimation for  12\n",
      "Mask estimation for  13\n",
      "Mask estimation for  14\n",
      "Mask estimation for  15\n",
      "Mask estimation for  16\n",
      "Mask estimation for  17\n",
      "Mask estimation for  18\n",
      "Mask estimation for  19\n",
      "Mask estimation for  20\n",
      "Mask estimation for  21\n",
      "Mask estimation for  22\n",
      "Mask estimation for  23\n",
      "Mask estimation for  24\n",
      "Mask estimation for  25\n",
      "Mask estimation for  26\n",
      "Mask estimation for  27\n",
      "Mask estimation for  28\n",
      "Mask estimation for  29\n",
      "Mask estimation for  30\n",
      "Mask estimation for  31\n",
      "Mask estimation for  32\n",
      "Mask estimation for  33\n",
      "Mask estimation for  34\n",
      "Mask estimation for  35\n",
      "Mask estimation for  36\n",
      "Mask estimation for  37\n",
      "Mask estimation for  38\n",
      "Mask estimation for  39\n",
      "Mask estimation for  40\n",
      "Mask estimation for  41\n",
      "Mask estimation for  42\n",
      "Mask estimation for  43\n",
      "Mask estimation for  44\n",
      "Mask estimation for  45\n",
      "Mask estimation for  46\n",
      "Mask estimation for  47\n",
      "Mask estimation for  48\n",
      "Mask estimation for  49\n",
      "Mask estimation for  50\n",
      "Mask estimation for  51\n",
      "Mask estimation for  52\n",
      "Mask estimation for  53\n",
      "Mask estimation for  54\n",
      "Mask estimation for  55\n",
      "Mask estimation for  56\n",
      "Mask estimation for  57\n",
      "Mask estimation for  58\n",
      "Mask estimation for  59\n",
      "Mask estimation for  60\n",
      "Mask estimation for  61\n",
      "Mask estimation for  62\n",
      "Mask estimation for  63\n",
      "Mask estimation for  64\n",
      "Mask estimation for  65\n",
      "Mask estimation for  66\n",
      "Mask estimation for  67\n",
      "Mask estimation for  68\n",
      "Mask estimation for  69\n",
      "Mask estimation for  70\n",
      "Mask estimation for  71\n",
      "Mask estimation for  72\n",
      "Mask estimation for  73\n",
      "Mask estimation for  74\n",
      "Mask estimation for  75\n",
      "Mask estimation for  76\n",
      "Mask estimation for  77\n",
      "Mask estimation for  78\n",
      "Mask estimation for  79\n",
      "Mask estimation for  80\n",
      "Mask estimation for  81\n",
      "Mask estimation for  82\n",
      "Mask estimation for  83\n",
      "Mask estimation for  84\n",
      "Mask estimation for  85\n",
      "Mask estimation for  86\n",
      "Mask estimation for  87\n",
      "Mask estimation for  88\n"
>>>>>>> f791f49 (get metrics rhino)
     ]
    }
   ],
   "source": [
    "n_iter_mc = 3\n",
    "p_size = 9\n",
    "n_iter_pm = 5\n",
    "estimated_masks_sequential_mc = get_masks_sequential(img_ref, mask_ref, imgs, n_iter_mc, p_size, n_iter_pm)"
   ]
  },
  {
   "cell_type": "code",
   "execution_count": 19,
   "metadata": {},
   "outputs": [
    {
     "name": "stdout",
     "output_type": "stream",
     "text": [
      "89\n",
      "89\n"
     ]
    },
    {
     "ename": "IndexError",
     "evalue": "list index out of range",
     "output_type": "error",
     "traceback": [
      "\u001b[0;31m---------------------------------------------------------------------------\u001b[0m",
      "\u001b[0;31mIndexError\u001b[0m                                Traceback (most recent call last)",
      "\u001b[0;32m/tmp/ipykernel_28551/2875966977.py\u001b[0m in \u001b[0;36m<module>\u001b[0;34m\u001b[0m\n\u001b[1;32m      3\u001b[0m \u001b[0mboundary_sequential_mc\u001b[0m \u001b[0;34m=\u001b[0m \u001b[0;34m[\u001b[0m\u001b[0mdb_eval_boundary\u001b[0m\u001b[0;34m(\u001b[0m\u001b[0mestimated_masks_sequential_mc\u001b[0m\u001b[0;34m[\u001b[0m\u001b[0mi\u001b[0m\u001b[0;34m]\u001b[0m\u001b[0;34m,\u001b[0m\u001b[0mmasks\u001b[0m\u001b[0;34m[\u001b[0m\u001b[0mi\u001b[0m\u001b[0;34m]\u001b[0m\u001b[0;34m)\u001b[0m \u001b[0;32mfor\u001b[0m \u001b[0mi\u001b[0m \u001b[0;32min\u001b[0m \u001b[0mrange\u001b[0m\u001b[0;34m(\u001b[0m\u001b[0mn_images\u001b[0m\u001b[0;34m)\u001b[0m\u001b[0;34m]\u001b[0m\u001b[0;34m\u001b[0m\u001b[0;34m\u001b[0m\u001b[0m\n\u001b[1;32m      4\u001b[0m \u001b[0mprint\u001b[0m\u001b[0;34m(\u001b[0m\u001b[0mlen\u001b[0m\u001b[0;34m(\u001b[0m\u001b[0mboundary_sequential_mc\u001b[0m\u001b[0;34m)\u001b[0m\u001b[0;34m)\u001b[0m\u001b[0;34m\u001b[0m\u001b[0;34m\u001b[0m\u001b[0m\n\u001b[0;32m----> 5\u001b[0;31m \u001b[0mcentroid_sequential_mc\u001b[0m \u001b[0;34m=\u001b[0m \u001b[0;34m[\u001b[0m\u001b[0mcentroid_assessment\u001b[0m\u001b[0;34m(\u001b[0m\u001b[0mmasks\u001b[0m\u001b[0;34m[\u001b[0m\u001b[0mi\u001b[0m\u001b[0;34m]\u001b[0m\u001b[0;34m,\u001b[0m \u001b[0mestimated_masks_sequential_mc\u001b[0m\u001b[0;34m[\u001b[0m\u001b[0mi\u001b[0m\u001b[0;34m]\u001b[0m\u001b[0;34m)\u001b[0m \u001b[0;32mfor\u001b[0m \u001b[0mi\u001b[0m \u001b[0;32min\u001b[0m \u001b[0mrange\u001b[0m\u001b[0;34m(\u001b[0m\u001b[0mn_images\u001b[0m\u001b[0;34m)\u001b[0m\u001b[0;34m]\u001b[0m\u001b[0;34m\u001b[0m\u001b[0;34m\u001b[0m\u001b[0m\n\u001b[0m",
      "\u001b[0;32m/tmp/ipykernel_28551/2875966977.py\u001b[0m in \u001b[0;36m<listcomp>\u001b[0;34m(.0)\u001b[0m\n\u001b[1;32m      3\u001b[0m \u001b[0mboundary_sequential_mc\u001b[0m \u001b[0;34m=\u001b[0m \u001b[0;34m[\u001b[0m\u001b[0mdb_eval_boundary\u001b[0m\u001b[0;34m(\u001b[0m\u001b[0mestimated_masks_sequential_mc\u001b[0m\u001b[0;34m[\u001b[0m\u001b[0mi\u001b[0m\u001b[0;34m]\u001b[0m\u001b[0;34m,\u001b[0m\u001b[0mmasks\u001b[0m\u001b[0;34m[\u001b[0m\u001b[0mi\u001b[0m\u001b[0;34m]\u001b[0m\u001b[0;34m)\u001b[0m \u001b[0;32mfor\u001b[0m \u001b[0mi\u001b[0m \u001b[0;32min\u001b[0m \u001b[0mrange\u001b[0m\u001b[0;34m(\u001b[0m\u001b[0mn_images\u001b[0m\u001b[0;34m)\u001b[0m\u001b[0;34m]\u001b[0m\u001b[0;34m\u001b[0m\u001b[0;34m\u001b[0m\u001b[0m\n\u001b[1;32m      4\u001b[0m \u001b[0mprint\u001b[0m\u001b[0;34m(\u001b[0m\u001b[0mlen\u001b[0m\u001b[0;34m(\u001b[0m\u001b[0mboundary_sequential_mc\u001b[0m\u001b[0;34m)\u001b[0m\u001b[0;34m)\u001b[0m\u001b[0;34m\u001b[0m\u001b[0;34m\u001b[0m\u001b[0m\n\u001b[0;32m----> 5\u001b[0;31m \u001b[0mcentroid_sequential_mc\u001b[0m \u001b[0;34m=\u001b[0m \u001b[0;34m[\u001b[0m\u001b[0mcentroid_assessment\u001b[0m\u001b[0;34m(\u001b[0m\u001b[0mmasks\u001b[0m\u001b[0;34m[\u001b[0m\u001b[0mi\u001b[0m\u001b[0;34m]\u001b[0m\u001b[0;34m,\u001b[0m \u001b[0mestimated_masks_sequential_mc\u001b[0m\u001b[0;34m[\u001b[0m\u001b[0mi\u001b[0m\u001b[0;34m]\u001b[0m\u001b[0;34m)\u001b[0m \u001b[0;32mfor\u001b[0m \u001b[0mi\u001b[0m \u001b[0;32min\u001b[0m \u001b[0mrange\u001b[0m\u001b[0;34m(\u001b[0m\u001b[0mn_images\u001b[0m\u001b[0;34m)\u001b[0m\u001b[0;34m]\u001b[0m\u001b[0;34m\u001b[0m\u001b[0;34m\u001b[0m\u001b[0m\n\u001b[0m",
      "\u001b[0;32m~/git/compvisio_patchmatch-1/functions.py\u001b[0m in \u001b[0;36mcentroid_assessment\u001b[0;34m(groundtruth, estimated)\u001b[0m\n\u001b[1;32m    167\u001b[0m         \u001b[0;34m'Can'\u001b[0m\u001b[0;34m't convert %dx%d seg to %dx%d bmap.'\u001b[0m\u001b[0;34m%\u001b[0m\u001b[0;34m(\u001b[0m\u001b[0mw\u001b[0m\u001b[0;34m,\u001b[0m\u001b[0mh\u001b[0m\u001b[0;34m,\u001b[0m\u001b[0mwidth\u001b[0m\u001b[0;34m,\u001b[0m\u001b[0mheight\u001b[0m\u001b[0;34m)\u001b[0m\u001b[0;34m\u001b[0m\u001b[0;34m\u001b[0m\u001b[0m\n\u001b[1;32m    168\u001b[0m \u001b[0;34m\u001b[0m\u001b[0m\n\u001b[0;32m--> 169\u001b[0;31m     \u001b[0me\u001b[0m  \u001b[0;34m=\u001b[0m \u001b[0mnp\u001b[0m\u001b[0;34m.\u001b[0m\u001b[0mzeros_like\u001b[0m\u001b[0;34m(\u001b[0m\u001b[0mseg\u001b[0m\u001b[0;34m)\u001b[0m\u001b[0;34m\u001b[0m\u001b[0;34m\u001b[0m\u001b[0m\n\u001b[0m\u001b[1;32m    170\u001b[0m     \u001b[0ms\u001b[0m  \u001b[0;34m=\u001b[0m \u001b[0mnp\u001b[0m\u001b[0;34m.\u001b[0m\u001b[0mzeros_like\u001b[0m\u001b[0;34m(\u001b[0m\u001b[0mseg\u001b[0m\u001b[0;34m)\u001b[0m\u001b[0;34m\u001b[0m\u001b[0;34m\u001b[0m\u001b[0m\n\u001b[1;32m    171\u001b[0m     \u001b[0mse\u001b[0m \u001b[0;34m=\u001b[0m \u001b[0mnp\u001b[0m\u001b[0;34m.\u001b[0m\u001b[0mzeros_like\u001b[0m\u001b[0;34m(\u001b[0m\u001b[0mseg\u001b[0m\u001b[0;34m)\u001b[0m\u001b[0;34m\u001b[0m\u001b[0;34m\u001b[0m\u001b[0m\n",
      "\u001b[0;31mIndexError\u001b[0m: list index out of range"
     ]
    }
   ],
   "source": [
    "dices_sequential_mc = [dice_assessment(masks[i], estimated_masks_sequential_mc[i]) for i in range(n_images)]\n",
<<<<<<< HEAD
<<<<<<< HEAD
<<<<<<< HEAD
=======
    "print(len(dices_sequential_mc))\n",
>>>>>>> f791f49 (get metrics rhino)
    "boundary_sequential_mc = [db_eval_boundary(estimated_masks_sequential_mc[i],masks[i]) for i in range(n_images)]\n",
    "print(len(boundary_sequential_mc))\n",
    "centroid_sequential_mc = [centroid_assessment(masks[i], estimated_masks_sequential_mc[i]) for i in range(n_images)]"
=======
    "#boundary_sequential_mc = [db_eval_boundary(estimated_masks_sequential_mc[i],masks[i]) for i in range(n_images)]\n",
    "#centroid_sequential_mc = [centroid_assessment(masks[i], estimated_masks_sequential_mc[i]) for i in range(n_images)]"
>>>>>>> c454a68 (Rhino example added)
=======
    "boundary_sequential_mc = [db_eval_boundary(estimated_masks_sequential_mc[i],masks[i]) for i in range(n_images)]\n",
    "centroid_sequential_mc = [centroid_assessment(masks[i], estimated_masks_sequential_mc[i]) for i in range(n_images)]"
>>>>>>> a77632d (Update rhino)
   ]
  },
  {
   "attachments": {},
   "cell_type": "markdown",
   "metadata": {},
   "source": [
    "### Hybrid without Monte-Carlo"
   ]
  },
  {
   "cell_type": "code",
   "execution_count": 20,
   "metadata": {},
   "outputs": [
    {
     "name": "stdout",
     "output_type": "stream",
     "text": [
      "Mask estimation for  0\n",
      "Mask estimation for  1\n",
      "Mask estimation for  2\n",
      "Mask estimation for  3\n",
      "Mask estimation for  4\n",
      "Mask estimation for  5\n",
      "Mask estimation for  6\n",
      "Mask estimation for  7\n",
      "Mask estimation for  8\n",
      "Mask estimation for  9\n",
      "Mask estimation for  10\n",
      "Mask estimation for  11\n",
      "Mask estimation for  12\n",
      "Mask estimation for  13\n",
      "Mask estimation for  14\n",
      "Mask estimation for  15\n",
      "Mask estimation for  16\n",
      "Mask estimation for  17\n",
      "Mask estimation for  18\n",
      "Mask estimation for  19\n",
      "Mask estimation for  20\n",
      "Mask estimation for  21\n",
      "Mask estimation for  22\n",
      "Mask estimation for  23\n",
      "Mask estimation for  24\n",
      "Mask estimation for  25\n",
      "Mask estimation for  26\n",
      "Mask estimation for  27\n",
      "Mask estimation for  28\n",
      "Mask estimation for  29\n",
      "Mask estimation for  30\n",
      "Mask estimation for  31\n",
      "Mask estimation for  32\n",
      "Mask estimation for  33\n",
      "Mask estimation for  34\n",
      "Mask estimation for  35\n",
      "Mask estimation for  36\n",
      "Mask estimation for  37\n",
      "Mask estimation for  38\n",
      "Mask estimation for  39\n",
      "Mask estimation for  40\n",
      "Mask estimation for  41\n",
      "Mask estimation for  42\n",
      "Mask estimation for  43\n",
      "Mask estimation for  44\n",
      "Mask estimation for  45\n",
      "Mask estimation for  46\n",
      "Mask estimation for  47\n",
      "Mask estimation for  48\n",
      "Mask estimation for  49\n",
      "Mask estimation for  50\n",
      "Mask estimation for  51\n",
      "Mask estimation for  52\n",
      "Mask estimation for  53\n",
      "Mask estimation for  54\n",
      "Mask estimation for  55\n",
      "Mask estimation for  56\n",
      "Mask estimation for  57\n",
      "Mask estimation for  58\n",
      "Mask estimation for  59\n",
      "Mask estimation for  60\n",
      "Mask estimation for  61\n",
      "Mask estimation for  62\n",
      "Mask estimation for  63\n",
      "Mask estimation for  64\n",
      "Mask estimation for  65\n",
      "Mask estimation for  66\n",
      "Mask estimation for  67\n",
      "Mask estimation for  68\n",
      "Mask estimation for  69\n",
      "Mask estimation for  70\n",
      "Mask estimation for  71\n",
      "Mask estimation for  72\n",
      "Mask estimation for  73\n",
      "Mask estimation for  74\n",
      "Mask estimation for  75\n",
      "Mask estimation for  76\n",
      "Mask estimation for  77\n",
      "Mask estimation for  78\n",
      "Mask estimation for  79\n",
      "Mask estimation for  80\n",
      "Mask estimation for  81\n",
      "Mask estimation for  82\n",
      "Mask estimation for  83\n",
      "Mask estimation for  84\n",
      "Mask estimation for  85\n",
      "Mask estimation for  86\n",
      "Mask estimation for  87\n",
      "Mask estimation for  88\n"
     ]
    }
   ],
   "source": [
    "n_iter_mc = 1\n",
    "p_size = 9\n",
    "n_iter_pm = 5\n",
    "estimated_masks_hybrid_no_mc = get_masks_hybrid(img_ref, mask_ref, imgs, n_iter_mc, p_size, n_iter_pm)"
   ]
  },
  {
   "cell_type": "code",
   "execution_count": 21,
   "metadata": {},
   "outputs": [],
   "source": [
    "dices_hybrid_no_mc = [dice_assessment(masks[i], estimated_masks_hybrid_no_mc[i]) for i in range(n_images)]\n",
<<<<<<< HEAD
<<<<<<< HEAD
    "boundary_hybrid_no_mc = [db_eval_boundary(estimated_masks_hybrid_no_mc[i],masks[i]) for i in range(n_images)]\n",
    "centroid_hybrid_no_mc = [centroid_assessment(masks[i], estimated_masks_hybrid_no_mc[i]) for i in range(n_images)]"
=======
    "#boundary_hybrid_no_mc = [db_eval_boundary(estimated_masks_hybrid_no_mc[i],masks[i]) for i in range(n_images)]\n",
    "#centroid_hybrid_no_mc = [centroid_assessment(masks[i], estimated_masks_hybrid_no_mc[i]) for i in range(n_images)]"
>>>>>>> c454a68 (Rhino example added)
=======
    "boundary_hybrid_no_mc = [db_eval_boundary(estimated_masks_hybrid_no_mc[i],masks[i]) for i in range(n_images)]\n",
    "centroid_hybrid_no_mc = [centroid_assessment(masks[i], estimated_masks_hybrid_no_mc[i]) for i in range(n_images)]"
>>>>>>> a77632d (Update rhino)
   ]
  },
  {
   "attachments": {},
   "cell_type": "markdown",
   "metadata": {},
   "source": [
    "### Hybrid with Monte-Carlo"
   ]
  },
  {
   "cell_type": "code",
   "execution_count": 22,
   "metadata": {},
   "outputs": [
    {
     "name": "stdout",
     "output_type": "stream",
     "text": [
      "Mask estimation for  0\n",
      "Mask estimation for  1\n",
      "Mask estimation for  2\n",
      "Mask estimation for  3\n",
      "Mask estimation for  4\n",
      "Mask estimation for  5\n",
      "Mask estimation for  6\n",
      "Mask estimation for  7\n",
      "Mask estimation for  8\n",
      "Mask estimation for  9\n",
      "Mask estimation for  10\n",
      "Mask estimation for  11\n",
      "Mask estimation for  12\n",
      "Mask estimation for  13\n",
      "Mask estimation for  14\n",
      "Mask estimation for  15\n",
      "Mask estimation for  16\n",
      "Mask estimation for  17\n",
      "Mask estimation for  18\n",
      "Mask estimation for  19\n",
      "Mask estimation for  20\n",
      "Mask estimation for  21\n",
      "Mask estimation for  22\n",
      "Mask estimation for  23\n",
      "Mask estimation for  24\n",
      "Mask estimation for  25\n",
      "Mask estimation for  26\n",
      "Mask estimation for  27\n",
      "Mask estimation for  28\n",
      "Mask estimation for  29\n",
      "Mask estimation for  30\n",
      "Mask estimation for  31\n",
      "Mask estimation for  32\n",
      "Mask estimation for  33\n",
      "Mask estimation for  34\n",
      "Mask estimation for  35\n",
      "Mask estimation for  36\n",
      "Mask estimation for  37\n",
      "Mask estimation for  38\n",
      "Mask estimation for  39\n",
      "Mask estimation for  40\n",
      "Mask estimation for  41\n",
      "Mask estimation for  42\n",
      "Mask estimation for  43\n",
      "Mask estimation for  44\n",
      "Mask estimation for  45\n",
      "Mask estimation for  46\n",
      "Mask estimation for  47\n",
      "Mask estimation for  48\n",
      "Mask estimation for  49\n",
      "Mask estimation for  50\n",
      "Mask estimation for  51\n",
      "Mask estimation for  52\n",
      "Mask estimation for  53\n",
      "Mask estimation for  54\n",
      "Mask estimation for  55\n",
      "Mask estimation for  56\n",
      "Mask estimation for  57\n",
      "Mask estimation for  58\n",
      "Mask estimation for  59\n",
      "Mask estimation for  60\n",
      "Mask estimation for  61\n",
      "Mask estimation for  62\n",
      "Mask estimation for  63\n",
      "Mask estimation for  64\n",
      "Mask estimation for  65\n",
      "Mask estimation for  66\n",
      "Mask estimation for  67\n",
      "Mask estimation for  68\n",
      "Mask estimation for  69\n",
      "Mask estimation for  70\n",
      "Mask estimation for  71\n",
      "Mask estimation for  72\n",
      "Mask estimation for  73\n",
      "Mask estimation for  74\n",
      "Mask estimation for  75\n",
      "Mask estimation for  76\n",
      "Mask estimation for  77\n",
      "Mask estimation for  78\n",
      "Mask estimation for  79\n",
      "Mask estimation for  80\n",
      "Mask estimation for  81\n",
      "Mask estimation for  82\n",
      "Mask estimation for  83\n",
      "Mask estimation for  84\n",
      "Mask estimation for  85\n",
      "Mask estimation for  86\n",
      "Mask estimation for  87\n",
      "Mask estimation for  88\n"
     ]
    }
   ],
   "source": [
    "n_iter_mc = 3\n",
    "p_size = 9\n",
    "n_iter_pm = 5\n",
    "estimated_masks_hybrid_mc = get_masks_hybrid(img_ref, mask_ref, imgs, n_iter_mc, p_size, n_iter_pm)"
   ]
  },
  {
   "cell_type": "code",
   "execution_count": 23,
   "metadata": {},
   "outputs": [],
   "source": [
    "dices_hybrid_mc = [dice_assessment(masks[i], estimated_masks_hybrid_mc[i]) for i in range(n_images)]\n",
<<<<<<< HEAD
<<<<<<< HEAD
    "boundary_hybrid_mc = [db_eval_boundary(estimated_masks_hybrid_mc[i],masks[i]) for i in range(n_images)]\n",
    "centroid_hybrid_mc = [centroid_assessment(masks[i], estimated_masks_hybrid_mc[i]) for i in range(n_images)]"
=======
    "#boundary_hybrid_mc = [db_eval_boundary(estimated_masks_hybrid_mc[i],masks[i]) for i in range(n_images)]\n",
    "#centroid_hybrid_mc = [centroid_assessment(masks[i], estimated_masks_hybrid_mc[i]) for i in range(n_images)]"
>>>>>>> c454a68 (Rhino example added)
=======
    "boundary_hybrid_mc = [db_eval_boundary(estimated_masks_hybrid_mc[i],masks[i]) for i in range(n_images)]\n",
    "centroid_hybrid_mc = [centroid_assessment(masks[i], estimated_masks_hybrid_mc[i]) for i in range(n_images)]"
>>>>>>> a77632d (Update rhino)
   ]
  },
  {
   "attachments": {},
   "cell_type": "markdown",
   "metadata": {},
   "source": [
    "### Results"
   ]
  },
  {
   "cell_type": "code",
   "execution_count": 33,
   "metadata": {},
   "outputs": [
    {
     "data": {
      "image/png": "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",
      "text/plain": [
       "<Figure size 432x288 with 1 Axes>"
      ]
     },
     "metadata": {
      "needs_background": "light"
     },
     "output_type": "display_data"
    }
   ],
   "source": [
    "plt.plot(dices_direct_mc, label='Direct')\n",
    "plt.plot(dices_sequential_no_mc, label='Sequential')\n",
    "plt.plot(dices_hybrid_no_mc, label='Hybrid')\n",
    "plt.legend()\n",
    "plt.grid(True)\n",
    "plt.xlabel('image')\n",
    "plt.ylabel('DICE score')\n",
    "#plt.title('DICE score of direct, sequential and hybrid integration applied on rhino images')\n",
    "plt.show()"
   ]
  },
  {
   "cell_type": "code",
   "execution_count": 34,
   "metadata": {},
   "outputs": [
    {
     "data": {
      "image/png": "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",
      "text/plain": [
       "<Figure size 432x288 with 1 Axes>"
      ]
     },
     "metadata": {
      "needs_background": "light"
     },
     "output_type": "display_data"
    }
   ],
   "source": [
    "plt.plot(boundary_direct_mc, label='Direct')\n",
    "plt.plot(boundary_sequential_no_mc, label='Sequential')\n",
    "plt.plot(boundary_hybrid_no_mc, label='Hybrid')\n",
    "plt.legend()\n",
    "plt.grid(True)\n",
    "plt.xlabel('image')\n",
    "plt.ylabel('Boundary score')\n",
    "#plt.title('Boundary score of direct, sequential and hybrid integration applied on rhino images')\n",
    "plt.show()"
   ]
  },
  {
   "cell_type": "code",
   "execution_count": 35,
   "metadata": {},
   "outputs": [
    {
     "data": {
      "image/png": "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",
      "text/plain": [
       "<Figure size 432x288 with 1 Axes>"
      ]
     },
     "metadata": {
      "needs_background": "light"
     },
     "output_type": "display_data"
    }
   ],
   "source": [
<<<<<<< HEAD
<<<<<<< HEAD
=======
>>>>>>> c454a68 (Rhino example added)
=======
>>>>>>> 7ce3256 (Correct merge)
    "plt.plot(boundary_direct_mc, label='Direct')\n",
    "plt.plot(boundary_sequential_no_mc, label='Sequential')\n",
    "plt.plot(boundary_hybrid_no_mc, label='Hybrid')\n",
    "plt.legend()\n",
    "plt.grid(True)\n",
    "plt.xlabel('image')\n",
    "plt.ylabel('DICE score')\n",
    "plt.title('DICE score of direct, sequential and hybrid integration applied on bag images')\n",
<<<<<<< HEAD
=======
    "plt.ylabel('Boundary score')\n",
    "plt.title('Boundary score of direct, sequential and hybrid integration applied on rhino images')\n",
>>>>>>> c454a68 (Rhino example added)
=======
>>>>>>> 7ce3256 (Correct merge)
=======
    "plt.plot(centroid_direct_mc, label='Direct')\n",
    "plt.plot(centroid_sequential_no_mc, label='Sequential')\n",
    "plt.plot(centroid_hybrid_no_mc, label='Hybrid')\n",
    "plt.legend()\n",
    "plt.grid(True)\n",
    "plt.xlabel('image')\n",
    "plt.ylabel('Centroid score')\n",
    "#plt.title('Centroid score of direct, sequential and hybrid integration applied on rhino images')\n",
>>>>>>> f791f49 (get metrics rhino)
    "plt.show()"
   ]
  },
  {
   "cell_type": "code",
   "execution_count": 41,
   "metadata": {},
   "outputs": [
    {
     "name": "stdout",
     "output_type": "stream",
     "text": [
      "(89, 6)\n",
      "(89, 6)\n",
      "(89, 6)\n"
     ]
    }
   ],
   "source": [
    "import pandas as pd\n",
    "df_dice = pd.DataFrame([dices_direct_no_mc, dices_direct_mc, dices_sequential_no_mc, dices_sequential_mc, dices_hybrid_no_mc, dices_hybrid_mc])\n",
    "df_dice = df_dice.T\n",
    "print(df_dice.shape)\n",
    "\n",
    "df_boundary = pd.DataFrame([boundary_direct_no_mc, boundary_direct_mc, boundary_sequential_no_mc, boundary_sequential_mc, boundary_hybrid_no_mc, boundary_hybrid_mc])\n",
    "df_boundary = df_boundary.T\n",
    "print(df_boundary.shape)\n",
    "\n",
    "df_centroid = pd.DataFrame([centroid_direct_no_mc, centroid_direct_mc, centroid_sequential_no_mc, centroid_hybrid_no_mc, centroid_hybrid_mc])\n",
    "df_centroid = df_centroid.T\n",
    "print(df_boundary.shape)"
   ]
  },
  {
   "cell_type": "code",
   "execution_count": 42,
   "metadata": {},
   "outputs": [],
   "source": [
    "import os\n",
    "root = \"/homes/n20ravel/Téléchargements/\"\n",
    "\n",
    "df_dice.to_csv(os.path.join(root,\"rhino_dice\"),index=False)\n",
    "df_boundary.to_csv(os.path.join(root,\"rhino_boundary\"),index=False)\n",
    "df_centroid.to_csv(os.path.join(root,\"rhino_centroid\"),index=False)"
   ]
  },
  {
   "cell_type": "code",
   "execution_count": null,
   "metadata": {},
   "outputs": [],
   "source": []
<<<<<<< HEAD
=======
    "plt.ylabel('Centroid score')\n",
    "plt.title('Centroid score of direct, sequential and hybrid integration applied on rhino images')\n",
    "plt.show()"
   ]
>>>>>>> c454a68 (Rhino example added)
=======
>>>>>>> 7ce3256 (Correct merge)
  }
 ],
 "metadata": {
  "kernelspec": {
   "display_name": "Python 3 (ipykernel)",
<<<<<<< HEAD
=======
   "display_name": "compvisio",
>>>>>>> c454a68 (Rhino example added)
=======
>>>>>>> 7ce3256 (Correct merge)
   "language": "python",
   "name": "python3"
  },
  "language_info": {
   "codemirror_mode": {
    "name": "ipython",
    "version": 3
   },
   "file_extension": ".py",
   "mimetype": "text/x-python",
   "name": "python",
   "nbconvert_exporter": "python",
   "pygments_lexer": "ipython3",
   "version": "3.10.6"
<<<<<<< HEAD
=======
   "version": "3.10.9"
>>>>>>> c454a68 (Rhino example added)
=======
>>>>>>> 7ce3256 (Correct merge)
  },
  "orig_nbformat": 4
 },
 "nbformat": 4,
 "nbformat_minor": 2
}
