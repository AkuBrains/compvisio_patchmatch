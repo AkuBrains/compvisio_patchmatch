{
 "cells": [
  {
   "cell_type": "code",
   "execution_count": 1,
   "metadata": {},
   "outputs": [],
   "source": [
    "import numpy as np\n",
    "import matplotlib.pyplot as plt\n",
    "from skimage import io\n",
    "from functions import monte_carlo, estimate_mask, dice_assessment,db_eval_boundary, centroid_assessment\n",
    "from integration import get_masks_direct, get_masks_sequential, get_masks_hybrid"
   ]
  },
  {
   "attachments": {},
   "cell_type": "markdown",
   "metadata": {},
   "source": [
    "### Direct integration without Monte-Carlo"
   ]
  },
  {
   "cell_type": "code",
   "execution_count": 2,
   "metadata": {},
   "outputs": [],
   "source": [
    "# Load data\n",
    "name = '/homes/n20ravel/Téléchargements/sequences-train/sequences-train/rhino'\n",
    "img_ref = io.imread(name+'-001.bmp')\n",
    "mask_ref = io.imread(name+'-001.png')\n",
    "\n",
    "n_images = 50\n",
    "imgs = list()\n",
    "masks = list()\n",
    "\n",
    "for i in range(2, 2 + n_images):\n",
    "    imgs.append(io.imread(name+'-%0*d.bmp'%(3, i)))\n",
    "    masks.append(io.imread(name+'-%0*d.png'%(3, i)))"
   ]
  },
  {
   "cell_type": "code",
   "execution_count": 3,
   "metadata": {},
   "outputs": [
    {
     "name": "stdout",
     "output_type": "stream",
     "text": [
      "Mask estimation for  0\n",
      "Mask estimation for  1\n",
      "Mask estimation for  2\n",
      "Mask estimation for  3\n",
      "Mask estimation for  4\n",
      "Mask estimation for  5\n",
      "Mask estimation for  6\n",
      "Mask estimation for  7\n",
      "Mask estimation for  8\n",
      "Mask estimation for  9\n",
      "Mask estimation for  10\n",
      "Mask estimation for  11\n",
      "Mask estimation for  12\n",
      "Mask estimation for  13\n",
      "Mask estimation for  14\n",
      "Mask estimation for  15\n",
      "Mask estimation for  16\n",
      "Mask estimation for  17\n",
      "Mask estimation for  18\n",
      "Mask estimation for  19\n",
      "Mask estimation for  20\n",
      "Mask estimation for  21\n",
      "Mask estimation for  22\n",
      "Mask estimation for  23\n",
      "Mask estimation for  24\n",
      "Mask estimation for  25\n",
      "Mask estimation for  26\n",
      "Mask estimation for  27\n",
      "Mask estimation for  28\n",
      "Mask estimation for  29\n",
      "Mask estimation for  30\n",
      "Mask estimation for  31\n",
      "Mask estimation for  32\n",
      "Mask estimation for  33\n",
      "Mask estimation for  34\n",
      "Mask estimation for  35\n",
      "Mask estimation for  36\n",
      "Mask estimation for  37\n",
      "Mask estimation for  38\n",
      "Mask estimation for  39\n",
      "Mask estimation for  40\n",
      "Mask estimation for  41\n",
      "Mask estimation for  42\n",
      "Mask estimation for  43\n",
      "Mask estimation for  44\n",
      "Mask estimation for  45\n",
      "Mask estimation for  46\n",
      "Mask estimation for  47\n",
      "Mask estimation for  48\n",
      "Mask estimation for  49\n"
     ]
    }
   ],
   "source": [
    "n_iter_mc = 1\n",
    "p_size = 9\n",
    "n_iter_pm = 5\n",
    "estimated_masks_direct_no_mc = get_masks_direct(img_ref, mask_ref, imgs, n_iter_mc, p_size, n_iter_pm)"
   ]
  },
  {
   "cell_type": "code",
   "execution_count": 4,
   "metadata": {},
   "outputs": [],
   "source": [
    "dices_direct_no_mc = [dice_assessment(masks[i], estimated_masks_direct_no_mc[i]) for i in range(n_images)]\n",
    "boundary_direct_no_mc = [db_eval_boundary(estimated_masks_direct_no_mc[i],masks[i]) for i in range(n_images)]\n",
    "centroid_direct_no_mc = [centroid_assessment(masks[i], estimated_masks_direct_no_mc[i]) for i in range(n_images)]"
   ]
  },
  {
   "attachments": {},
   "cell_type": "markdown",
   "metadata": {},
   "source": [
    "### Direct integration with Monte-Carlo"
   ]
  },
  {
   "cell_type": "code",
   "execution_count": 5,
   "metadata": {},
   "outputs": [
    {
     "name": "stdout",
     "output_type": "stream",
     "text": [
      "Mask estimation for  0\n",
      "Mask estimation for  1\n",
      "Mask estimation for  2\n",
      "Mask estimation for  3\n",
      "Mask estimation for  4\n",
      "Mask estimation for  5\n",
      "Mask estimation for  6\n",
      "Mask estimation for  7\n",
      "Mask estimation for  8\n",
      "Mask estimation for  9\n",
      "Mask estimation for  10\n",
      "Mask estimation for  11\n",
      "Mask estimation for  12\n",
      "Mask estimation for  13\n",
      "Mask estimation for  14\n",
      "Mask estimation for  15\n",
      "Mask estimation for  16\n",
      "Mask estimation for  17\n",
      "Mask estimation for  18\n",
      "Mask estimation for  19\n",
      "Mask estimation for  20\n",
      "Mask estimation for  21\n",
      "Mask estimation for  22\n",
      "Mask estimation for  23\n",
      "Mask estimation for  24\n",
      "Mask estimation for  25\n",
      "Mask estimation for  26\n",
      "Mask estimation for  27\n",
      "Mask estimation for  28\n",
      "Mask estimation for  29\n",
      "Mask estimation for  30\n",
      "Mask estimation for  31\n",
      "Mask estimation for  32\n",
      "Mask estimation for  33\n",
      "Mask estimation for  34\n",
      "Mask estimation for  35\n",
      "Mask estimation for  36\n",
      "Mask estimation for  37\n",
      "Mask estimation for  38\n",
      "Mask estimation for  39\n",
      "Mask estimation for  40\n",
      "Mask estimation for  41\n",
      "Mask estimation for  42\n",
      "Mask estimation for  43\n",
      "Mask estimation for  44\n",
      "Mask estimation for  45\n",
      "Mask estimation for  46\n",
      "Mask estimation for  47\n",
      "Mask estimation for  48\n",
      "Mask estimation for  49\n"
     ]
    }
   ],
   "source": [
    "n_iter_mc = 3\n",
    "p_size = 9\n",
    "n_iter_pm = 5\n",
    "estimated_masks_direct_mc = get_masks_direct(img_ref, mask_ref, imgs, n_iter_mc, p_size, n_iter_pm)"
   ]
  },
  {
   "cell_type": "code",
   "execution_count": 6,
   "metadata": {},
   "outputs": [],
   "source": [
    "dices_direct_mc = [dice_assessment(masks[i], estimated_masks_direct_mc[i]) for i in range(n_images)]\n",
    "#boundary_direct_mc = [db_eval_boundary(estimated_masks_direct_mc[i],masks[i]) for i in range(n_images)]\n",
    "#centroid_direct_mc = [centroid_assessment(masks[i], estimated_masks_direct_mc[i]) for i in range(n_images)]"
   ]
  },
  {
   "attachments": {},
   "cell_type": "markdown",
   "metadata": {},
   "source": [
    "### Sequential integration without Monte-Carlo"
   ]
  },
  {
   "cell_type": "code",
   "execution_count": 7,
   "metadata": {},
   "outputs": [
    {
     "name": "stdout",
     "output_type": "stream",
     "text": [
      "Mask estimation for  0\n",
      "Mask estimation for  1\n",
      "Mask estimation for  2\n",
      "Mask estimation for  3\n",
      "Mask estimation for  4\n",
      "Mask estimation for  5\n",
      "Mask estimation for  6\n",
      "Mask estimation for  7\n",
      "Mask estimation for  8\n",
      "Mask estimation for  9\n",
      "Mask estimation for  10\n",
      "Mask estimation for  11\n",
      "Mask estimation for  12\n",
      "Mask estimation for  13\n",
      "Mask estimation for  14\n",
      "Mask estimation for  15\n",
      "Mask estimation for  16\n",
      "Mask estimation for  17\n",
      "Mask estimation for  18\n",
      "Mask estimation for  19\n",
      "Mask estimation for  20\n",
      "Mask estimation for  21\n",
      "Mask estimation for  22\n",
      "Mask estimation for  23\n",
      "Mask estimation for  24\n",
      "Mask estimation for  25\n",
      "Mask estimation for  26\n",
      "Mask estimation for  27\n",
      "Mask estimation for  28\n",
      "Mask estimation for  29\n",
      "Mask estimation for  30\n",
      "Mask estimation for  31\n",
      "Mask estimation for  32\n",
      "Mask estimation for  33\n",
      "Mask estimation for  34\n",
      "Mask estimation for  35\n",
      "Mask estimation for  36\n",
      "Mask estimation for  37\n",
      "Mask estimation for  38\n",
      "Mask estimation for  39\n",
      "Mask estimation for  40\n",
      "Mask estimation for  41\n",
      "Mask estimation for  42\n",
      "Mask estimation for  43\n",
      "Mask estimation for  44\n",
      "Mask estimation for  45\n",
      "Mask estimation for  46\n",
      "Mask estimation for  47\n",
      "Mask estimation for  48\n",
      "Mask estimation for  49\n"
     ]
    }
   ],
   "source": [
    "n_iter_mc = 1\n",
    "p_size = 9\n",
    "n_iter_pm = 5\n",
    "estimated_masks_sequential_no_mc = get_masks_sequential(img_ref, mask_ref, imgs, n_iter_mc, p_size, n_iter_pm)"
   ]
  },
  {
   "cell_type": "code",
   "execution_count": 12,
   "metadata": {},
   "outputs": [],
   "source": [
    "dices_sequential_no_mc = [dice_assessment(masks[i], estimated_masks_sequential_no_mc[i]) for i in range(n_images)]\n",
    "#boundary_sequential_no_mc = [db_eval_boundary(estimated_masks_sequential_no_mc[i],masks[i]) for i in range(n_images)]\n",
    "#centroid_sequential_no_mc = [centroid_assessment(masks[i], estimated_masks_sequential_no_mc[i]) for i in range(n_images)]"
   ]
  },
  {
   "attachments": {},
   "cell_type": "markdown",
   "metadata": {},
   "source": [
    "### Sequential integration with Monte-Carlo"
   ]
  },
  {
   "cell_type": "code",
   "execution_count": null,
   "metadata": {},
   "outputs": [
    {
     "name": "stdout",
     "output_type": "stream",
     "text": [
      "Mask estimation for sequences-train/bag-002.bmp\n",
      "Mask estimation for sequences-train/bag-003.bmp\n",
      "Mask estimation for sequences-train/bag-004.bmp\n",
      "Mask estimation for sequences-train/bag-005.bmp\n",
      "Mask estimation for sequences-train/bag-006.bmp\n",
      "Mask estimation for sequences-train/bag-007.bmp\n",
      "Mask estimation for sequences-train/bag-008.bmp\n",
      "Mask estimation for sequences-train/bag-009.bmp\n",
      "Mask estimation for sequences-train/bag-010.bmp\n",
      "Mask estimation for sequences-train/bag-011.bmp\n"
     ]
    }
   ],
   "source": [
    "n_iter_mc = 3\n",
    "p_size = 9\n",
    "n_iter_pm = 5\n",
    "estimated_masks_sequential_mc = get_masks_sequential(img_ref, mask_ref, imgs, n_iter_mc, p_size, n_iter_pm)"
   ]
  },
  {
   "cell_type": "code",
   "execution_count": null,
   "metadata": {},
   "outputs": [],
   "source": [
    "dices_sequential_mc = [dice_assessment(masks[i], estimated_masks_sequential_mc[i]) for i in range(n_images)]\n",
    "#boundary_sequential_mc = [db_eval_boundary(estimated_masks_sequential_mc[i],masks[i]) for i in range(n_images)]\n",
    "#centroid_sequential_mc = [centroid_assessment(masks[i], estimated_masks_sequential_mc[i]) for i in range(n_images)]"
   ]
  },
  {
   "attachments": {},
   "cell_type": "markdown",
   "metadata": {},
   "source": [
    "### Hybrid without Monte-Carlo"
   ]
  },
  {
   "cell_type": "code",
   "execution_count": null,
   "metadata": {},
   "outputs": [],
   "source": [
    "n_iter_mc = 1\n",
    "p_size = 9\n",
    "n_iter_pm = 5\n",
    "estimated_masks_hybrid_no_mc = get_masks_hybrid(img_ref, mask_ref, imgs, n_iter_mc, p_size, n_iter_pm)"
   ]
  },
  {
   "cell_type": "code",
   "execution_count": null,
   "metadata": {},
   "outputs": [],
   "source": [
    "dices_hybrid_no_mc = [dice_assessment(masks[i], estimated_masks_hybrid_no_mc[i]) for i in range(n_images)]\n",
    "#boundary_hybrid_no_mc = [db_eval_boundary(estimated_masks_hybrid_no_mc[i],masks[i]) for i in range(n_images)]\n",
    "#centroid_hybrid_no_mc = [centroid_assessment(masks[i], estimated_masks_hybrid_no_mc[i]) for i in range(n_images)]"
   ]
  },
  {
   "attachments": {},
   "cell_type": "markdown",
   "metadata": {},
   "source": [
    "### Hybrid with Monte-Carlo"
   ]
  },
  {
   "cell_type": "code",
   "execution_count": null,
   "metadata": {},
   "outputs": [],
   "source": [
    "n_iter_mc = 3\n",
    "p_size = 9\n",
    "n_iter_pm = 5\n",
    "estimated_masks_hybrid_mc = get_masks_hybrid(img_ref, mask_ref, imgs, n_iter_mc, p_size, n_iter_pm)"
   ]
  },
  {
   "cell_type": "code",
   "execution_count": null,
   "metadata": {},
   "outputs": [],
   "source": [
    "dices_hybrid_mc = [dice_assessment(masks[i], estimated_masks_hybrid_mc[i]) for i in range(n_images)]\n",
    "#boundary_hybrid_mc = [db_eval_boundary(estimated_masks_hybrid_mc[i],masks[i]) for i in range(n_images)]\n",
    "#centroid_hybrid_mc = [centroid_assessment(masks[i], estimated_masks_hybrid_mc[i]) for i in range(n_images)]"
   ]
  },
  {
   "attachments": {},
   "cell_type": "markdown",
   "metadata": {},
   "source": [
    "### Results"
   ]
  },
  {
   "cell_type": "code",
   "execution_count": null,
   "metadata": {},
   "outputs": [
    {
     "data": {
      "image/png": "[encoded data removed]",
      "text/plain": [
       "<Figure size 640x480 with 1 Axes>"
      ]
     },
     "metadata": {},
     "output_type": "display_data"
    }
   ],
   "source": [
    "plt.plot(dices_direct_mc, label='Direct')\n",
    "plt.plot(dices_sequential_no_mc, label='Sequential')\n",
    "plt.plot(dices_hybrid_no_mc, label='Hybrid')\n",
    "plt.legend()\n",
    "plt.grid(True)\n",
    "plt.xlabel('image')\n",
    "plt.ylabel('DICE score')\n",
    "plt.title('DICE score of direct, sequential and hybrid integration applied on rhino images')\n",
    "plt.show()"
   ]
  },
  {
   "cell_type": "code",
   "execution_count": null,
   "metadata": {},
   "outputs": [],
   "source": [
    "plt.plot(boundary_direct_mc, label='Direct')\n",
    "plt.plot(boundary_sequential_no_mc, label='Sequential')\n",
    "plt.plot(boundary_hybrid_no_mc, label='Hybrid')\n",
    "plt.legend()\n",
    "plt.grid(True)\n",
    "plt.xlabel('image')\n",
    "plt.ylabel('Boundary score')\n",
    "plt.title('Boundary score of direct, sequential and hybrid integration applied on rhino images')\n",
    "plt.show()"
   ]
  },
  {
   "cell_type": "code",
   "execution_count": null,
   "metadata": {},
   "outputs": [],
   "source": [
    "plt.plot(centroid_direct_mc, label='Direct')\n",
    "plt.plot(centroid_sequential_no_mc, label='Sequential')\n",
    "plt.plot(centroid_hybrid_no_mc, label='Hybrid')\n",
    "plt.legend()\n",
    "plt.grid(True)\n",
    "plt.xlabel('image')\n",
    "plt.ylabel('Centroid score')\n",
    "plt.title('Centroid score of direct, sequential and hybrid integration applied on rhino images')\n",
    "plt.show()"
   ]
  }
 ],
 "metadata": {
  "kernelspec": {
   "display_name": "compvisio",
   "language": "python",
   "name": "python3"
  },
  "language_info": {
   "codemirror_mode": {
    "name": "ipython",
    "version": 3
   },
   "file_extension": ".py",
   "mimetype": "text/x-python",
   "name": "python",
   "nbconvert_exporter": "python",
   "pygments_lexer": "ipython3",
   "version": "3.10.9"
  },
  "orig_nbformat": 4
 },
 "nbformat": 4,
 "nbformat_minor": 2
}
